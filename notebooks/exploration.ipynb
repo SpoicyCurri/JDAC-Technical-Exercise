{
 "cells": [
  {
   "cell_type": "code",
   "execution_count": 1,
   "metadata": {},
   "outputs": [
    {
     "name": "stdout",
     "output_type": "stream",
     "text": [
      "hello world\n"
     ]
    }
   ],
   "source": [
    "print(\"hello world\")"
   ]
  },
  {
   "cell_type": "code",
   "execution_count": null,
   "metadata": {},
   "outputs": [],
   "source": [
    "!"
   ]
  },
  {
   "cell_type": "code",
   "execution_count": 1,
   "metadata": {},
   "outputs": [],
   "source": [
    "import requests\n",
    "import pandas as pd"
   ]
  },
  {
   "cell_type": "markdown",
   "metadata": {},
   "source": [
    "Explore Bike Locations"
   ]
  },
  {
   "cell_type": "code",
   "execution_count": 3,
   "metadata": {},
   "outputs": [
    {
     "name": "stdout",
     "output_type": "stream",
     "text": [
      "200\n"
     ]
    }
   ],
   "source": [
    "url = \"https://api.tfl.gov.uk/BikePoint/\"\n",
    "\n",
    "r = requests.get(url)\n",
    "print(r.status_code)"
   ]
  },
  {
   "cell_type": "code",
   "execution_count": 13,
   "metadata": {},
   "outputs": [
    {
     "data": {
      "text/html": [
       "<div>\n",
       "<style scoped>\n",
       "    .dataframe tbody tr th:only-of-type {\n",
       "        vertical-align: middle;\n",
       "    }\n",
       "\n",
       "    .dataframe tbody tr th {\n",
       "        vertical-align: top;\n",
       "    }\n",
       "\n",
       "    .dataframe thead th {\n",
       "        text-align: right;\n",
       "    }\n",
       "</style>\n",
       "<table border=\"1\" class=\"dataframe\">\n",
       "  <thead>\n",
       "    <tr style=\"text-align: right;\">\n",
       "      <th></th>\n",
       "      <th>$type</th>\n",
       "      <th>id</th>\n",
       "      <th>url</th>\n",
       "      <th>commonName</th>\n",
       "      <th>placeType</th>\n",
       "      <th>additionalProperties</th>\n",
       "      <th>children</th>\n",
       "      <th>childrenUrls</th>\n",
       "      <th>lat</th>\n",
       "      <th>lon</th>\n",
       "    </tr>\n",
       "  </thead>\n",
       "  <tbody>\n",
       "    <tr>\n",
       "      <th>0</th>\n",
       "      <td>Tfl.Api.Presentation.Entities.Place, Tfl.Api.P...</td>\n",
       "      <td>BikePoints_1</td>\n",
       "      <td>/Place/BikePoints_1</td>\n",
       "      <td>River Street , Clerkenwell</td>\n",
       "      <td>BikePoint</td>\n",
       "      <td>[{'$type': 'Tfl.Api.Presentation.Entities.Addi...</td>\n",
       "      <td>[]</td>\n",
       "      <td>[]</td>\n",
       "      <td>51.529163</td>\n",
       "      <td>-0.109970</td>\n",
       "    </tr>\n",
       "    <tr>\n",
       "      <th>1</th>\n",
       "      <td>Tfl.Api.Presentation.Entities.Place, Tfl.Api.P...</td>\n",
       "      <td>BikePoints_2</td>\n",
       "      <td>/Place/BikePoints_2</td>\n",
       "      <td>Phillimore Gardens, Kensington</td>\n",
       "      <td>BikePoint</td>\n",
       "      <td>[{'$type': 'Tfl.Api.Presentation.Entities.Addi...</td>\n",
       "      <td>[]</td>\n",
       "      <td>[]</td>\n",
       "      <td>51.499606</td>\n",
       "      <td>-0.197574</td>\n",
       "    </tr>\n",
       "    <tr>\n",
       "      <th>2</th>\n",
       "      <td>Tfl.Api.Presentation.Entities.Place, Tfl.Api.P...</td>\n",
       "      <td>BikePoints_3</td>\n",
       "      <td>/Place/BikePoints_3</td>\n",
       "      <td>Christopher Street, Liverpool Street</td>\n",
       "      <td>BikePoint</td>\n",
       "      <td>[{'$type': 'Tfl.Api.Presentation.Entities.Addi...</td>\n",
       "      <td>[]</td>\n",
       "      <td>[]</td>\n",
       "      <td>51.521283</td>\n",
       "      <td>-0.084605</td>\n",
       "    </tr>\n",
       "    <tr>\n",
       "      <th>3</th>\n",
       "      <td>Tfl.Api.Presentation.Entities.Place, Tfl.Api.P...</td>\n",
       "      <td>BikePoints_4</td>\n",
       "      <td>/Place/BikePoints_4</td>\n",
       "      <td>St. Chad's Street, King's Cross</td>\n",
       "      <td>BikePoint</td>\n",
       "      <td>[{'$type': 'Tfl.Api.Presentation.Entities.Addi...</td>\n",
       "      <td>[]</td>\n",
       "      <td>[]</td>\n",
       "      <td>51.530059</td>\n",
       "      <td>-0.120973</td>\n",
       "    </tr>\n",
       "    <tr>\n",
       "      <th>4</th>\n",
       "      <td>Tfl.Api.Presentation.Entities.Place, Tfl.Api.P...</td>\n",
       "      <td>BikePoints_5</td>\n",
       "      <td>/Place/BikePoints_5</td>\n",
       "      <td>Sedding Street, Sloane Square</td>\n",
       "      <td>BikePoint</td>\n",
       "      <td>[{'$type': 'Tfl.Api.Presentation.Entities.Addi...</td>\n",
       "      <td>[]</td>\n",
       "      <td>[]</td>\n",
       "      <td>51.493130</td>\n",
       "      <td>-0.156876</td>\n",
       "    </tr>\n",
       "  </tbody>\n",
       "</table>\n",
       "</div>"
      ],
      "text/plain": [
       "                                               $type            id  \\\n",
       "0  Tfl.Api.Presentation.Entities.Place, Tfl.Api.P...  BikePoints_1   \n",
       "1  Tfl.Api.Presentation.Entities.Place, Tfl.Api.P...  BikePoints_2   \n",
       "2  Tfl.Api.Presentation.Entities.Place, Tfl.Api.P...  BikePoints_3   \n",
       "3  Tfl.Api.Presentation.Entities.Place, Tfl.Api.P...  BikePoints_4   \n",
       "4  Tfl.Api.Presentation.Entities.Place, Tfl.Api.P...  BikePoints_5   \n",
       "\n",
       "                   url                            commonName  placeType  \\\n",
       "0  /Place/BikePoints_1            River Street , Clerkenwell  BikePoint   \n",
       "1  /Place/BikePoints_2        Phillimore Gardens, Kensington  BikePoint   \n",
       "2  /Place/BikePoints_3  Christopher Street, Liverpool Street  BikePoint   \n",
       "3  /Place/BikePoints_4       St. Chad's Street, King's Cross  BikePoint   \n",
       "4  /Place/BikePoints_5         Sedding Street, Sloane Square  BikePoint   \n",
       "\n",
       "                                additionalProperties children childrenUrls  \\\n",
       "0  [{'$type': 'Tfl.Api.Presentation.Entities.Addi...       []           []   \n",
       "1  [{'$type': 'Tfl.Api.Presentation.Entities.Addi...       []           []   \n",
       "2  [{'$type': 'Tfl.Api.Presentation.Entities.Addi...       []           []   \n",
       "3  [{'$type': 'Tfl.Api.Presentation.Entities.Addi...       []           []   \n",
       "4  [{'$type': 'Tfl.Api.Presentation.Entities.Addi...       []           []   \n",
       "\n",
       "         lat       lon  \n",
       "0  51.529163 -0.109970  \n",
       "1  51.499606 -0.197574  \n",
       "2  51.521283 -0.084605  \n",
       "3  51.530059 -0.120973  \n",
       "4  51.493130 -0.156876  "
      ]
     },
     "execution_count": 13,
     "metadata": {},
     "output_type": "execute_result"
    }
   ],
   "source": [
    "json = r.json()\n",
    "\n",
    "df = pd.DataFrame(json)\n",
    "\n",
    "df.head()"
   ]
  },
  {
   "cell_type": "code",
   "execution_count": 30,
   "metadata": {},
   "outputs": [
    {
     "data": {
      "text/html": [
       "<div>\n",
       "<style scoped>\n",
       "    .dataframe tbody tr th:only-of-type {\n",
       "        vertical-align: middle;\n",
       "    }\n",
       "\n",
       "    .dataframe tbody tr th {\n",
       "        vertical-align: top;\n",
       "    }\n",
       "\n",
       "    .dataframe thead th {\n",
       "        text-align: right;\n",
       "    }\n",
       "</style>\n",
       "<table border=\"1\" class=\"dataframe\">\n",
       "  <thead>\n",
       "    <tr style=\"text-align: right;\">\n",
       "      <th></th>\n",
       "      <th>id</th>\n",
       "      <th>commonName</th>\n",
       "      <th>lat</th>\n",
       "      <th>lon</th>\n",
       "    </tr>\n",
       "  </thead>\n",
       "  <tbody>\n",
       "    <tr>\n",
       "      <th>0</th>\n",
       "      <td>BikePoints_1</td>\n",
       "      <td>River Street , Clerkenwell</td>\n",
       "      <td>51.529163</td>\n",
       "      <td>-0.109970</td>\n",
       "    </tr>\n",
       "    <tr>\n",
       "      <th>1</th>\n",
       "      <td>BikePoints_2</td>\n",
       "      <td>Phillimore Gardens, Kensington</td>\n",
       "      <td>51.499606</td>\n",
       "      <td>-0.197574</td>\n",
       "    </tr>\n",
       "    <tr>\n",
       "      <th>2</th>\n",
       "      <td>BikePoints_3</td>\n",
       "      <td>Christopher Street, Liverpool Street</td>\n",
       "      <td>51.521283</td>\n",
       "      <td>-0.084605</td>\n",
       "    </tr>\n",
       "    <tr>\n",
       "      <th>3</th>\n",
       "      <td>BikePoints_4</td>\n",
       "      <td>St. Chad's Street, King's Cross</td>\n",
       "      <td>51.530059</td>\n",
       "      <td>-0.120973</td>\n",
       "    </tr>\n",
       "    <tr>\n",
       "      <th>4</th>\n",
       "      <td>BikePoints_5</td>\n",
       "      <td>Sedding Street, Sloane Square</td>\n",
       "      <td>51.493130</td>\n",
       "      <td>-0.156876</td>\n",
       "    </tr>\n",
       "    <tr>\n",
       "      <th>...</th>\n",
       "      <td>...</td>\n",
       "      <td>...</td>\n",
       "      <td>...</td>\n",
       "      <td>...</td>\n",
       "    </tr>\n",
       "    <tr>\n",
       "      <th>792</th>\n",
       "      <td>BikePoints_850</td>\n",
       "      <td>Brandon Street, Walworth</td>\n",
       "      <td>51.489102</td>\n",
       "      <td>-0.091548</td>\n",
       "    </tr>\n",
       "    <tr>\n",
       "      <th>793</th>\n",
       "      <td>BikePoints_851</td>\n",
       "      <td>The Blue, Bermondsey</td>\n",
       "      <td>51.492221</td>\n",
       "      <td>-0.062513</td>\n",
       "    </tr>\n",
       "    <tr>\n",
       "      <th>794</th>\n",
       "      <td>BikePoints_852</td>\n",
       "      <td>Coomer Place, West Kensington</td>\n",
       "      <td>51.483570</td>\n",
       "      <td>-0.202038</td>\n",
       "    </tr>\n",
       "    <tr>\n",
       "      <th>795</th>\n",
       "      <td>BikePoints_857</td>\n",
       "      <td>Strand, Strand</td>\n",
       "      <td>51.512582</td>\n",
       "      <td>-0.115057</td>\n",
       "    </tr>\n",
       "    <tr>\n",
       "      <th>796</th>\n",
       "      <td>BikePoints_689</td>\n",
       "      <td>Spanish Road, Clapham Junction</td>\n",
       "      <td>51.459225</td>\n",
       "      <td>-0.180884</td>\n",
       "    </tr>\n",
       "  </tbody>\n",
       "</table>\n",
       "<p>797 rows × 4 columns</p>\n",
       "</div>"
      ],
      "text/plain": [
       "                 id                            commonName        lat       lon\n",
       "0      BikePoints_1            River Street , Clerkenwell  51.529163 -0.109970\n",
       "1      BikePoints_2        Phillimore Gardens, Kensington  51.499606 -0.197574\n",
       "2      BikePoints_3  Christopher Street, Liverpool Street  51.521283 -0.084605\n",
       "3      BikePoints_4       St. Chad's Street, King's Cross  51.530059 -0.120973\n",
       "4      BikePoints_5         Sedding Street, Sloane Square  51.493130 -0.156876\n",
       "..              ...                                   ...        ...       ...\n",
       "792  BikePoints_850              Brandon Street, Walworth  51.489102 -0.091548\n",
       "793  BikePoints_851                  The Blue, Bermondsey  51.492221 -0.062513\n",
       "794  BikePoints_852         Coomer Place, West Kensington  51.483570 -0.202038\n",
       "795  BikePoints_857                        Strand, Strand  51.512582 -0.115057\n",
       "796  BikePoints_689        Spanish Road, Clapham Junction  51.459225 -0.180884\n",
       "\n",
       "[797 rows x 4 columns]"
      ]
     },
     "execution_count": 30,
     "metadata": {},
     "output_type": "execute_result"
    }
   ],
   "source": [
    "final_df = df[['id', 'commonName', 'lat', 'lon']]\n",
    "final_df"
   ]
  },
  {
   "cell_type": "code",
   "execution_count": 32,
   "metadata": {},
   "outputs": [],
   "source": [
    "final_df.to_csv('../data/bike_points_geocode.csv', index=False)"
   ]
  },
  {
   "cell_type": "code",
   "execution_count": 2,
   "metadata": {},
   "outputs": [
    {
     "name": "stdout",
     "output_type": "stream",
     "text": [
      "200\n"
     ]
    }
   ],
   "source": [
    "url = \"https://cycling.data.tfl.gov.uk/CyclingInfrastructure/data/lines/cycle_lane_track.json\"\n",
    "\n",
    "r = requests.get(url)\n",
    "print(r.status_code)\n",
    "json = r.json()\n",
    "# df = pd.DataFrame(json)\n",
    "# df.head()\n",
    "\n",
    "# pd.DataFrame([x['attributes'] for x in json['features']])\n"
   ]
  },
  {
   "cell_type": "code",
   "execution_count": 9,
   "metadata": {},
   "outputs": [
    {
     "data": {
      "text/plain": [
       "{'FEATURE_ID': 'RWG154837',\n",
       " 'SVDATE': '2017-10-14',\n",
       " 'CLT_CARR': 'TRUE',\n",
       " 'CLT_SEGREG': 'FALSE',\n",
       " 'CLT_STEPP': 'FALSE',\n",
       " 'CLT_PARSEG': 'FALSE',\n",
       " 'CLT_SHARED': 'FALSE',\n",
       " 'CLT_MANDAT': 'FALSE',\n",
       " 'CLT_ADVIS': 'TRUE',\n",
       " 'CLT_PRIORI': 'FALSE',\n",
       " 'CLT_CONTRA': 'FALSE',\n",
       " 'CLT_BIDIRE': 'FALSE',\n",
       " 'CLT_CBYPAS': 'FALSE',\n",
       " 'CLT_BBYPAS': 'FALSE',\n",
       " 'CLT_PARKR': 'FALSE',\n",
       " 'CLT_WATERR': 'FALSE',\n",
       " 'CLT_PTIME': 'FALSE',\n",
       " 'CLT_ACCESS': None,\n",
       " 'CLT_COLOUR': 'NONE',\n",
       " 'BOROUGH': 'Barking & Dagenham',\n",
       " 'PHOTO1_URL': 'https://cycleassetimages.data.tfl.gov.uk/RWG154837_1.jpg',\n",
       " 'PHOTO2_URL': 'https://cycleassetimages.data.tfl.gov.uk/RWG154837_2.jpg'}"
      ]
     },
     "execution_count": 9,
     "metadata": {},
     "output_type": "execute_result"
    }
   ],
   "source": [
    "json['features'][0]['properties']"
   ]
  }
 ],
 "metadata": {
  "kernelspec": {
   "display_name": ".venv",
   "language": "python",
   "name": "python3"
  },
  "language_info": {
   "codemirror_mode": {
    "name": "ipython",
    "version": 3
   },
   "file_extension": ".py",
   "mimetype": "text/x-python",
   "name": "python",
   "nbconvert_exporter": "python",
   "pygments_lexer": "ipython3",
   "version": "3.12.2"
  }
 },
 "nbformat": 4,
 "nbformat_minor": 2
}
